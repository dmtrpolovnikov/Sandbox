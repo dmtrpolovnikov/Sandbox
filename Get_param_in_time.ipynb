{
 "cells": [
  {
   "cell_type": "code",
   "execution_count": 1,
   "metadata": {},
   "outputs": [],
   "source": [
    "import math\n",
    "import datetime, time\n",
    "import yfinance as yf\n",
    "import pandas as pd\n",
    "import numpy as np\n",
    "import matplotlib.pyplot as plt\n",
    "from numpy import cumsum, log, polyfit, sqrt, std, subtract\n",
    "from numpy.random import randn"
   ]
  },
  {
   "cell_type": "code",
   "execution_count": 2,
   "metadata": {},
   "outputs": [],
   "source": [
    "def hurst(ts):\n",
    "    npts = np.array(ts)\n",
    "    logs = log(npts[:-1]/npts[1:])\n",
    "    groups = np.arange(int(len(logs) / 10), 1, -1)\n",
    "    RS = np.zeros(len(groups)+1)\n",
    "    line = np.zeros(len(groups)+1)\n",
    "    for group in groups:\n",
    "        sub_RS = np.zeros(group)\n",
    "        stdev = np.zeros(group)\n",
    "        line[group-1] = len(logs)/group\n",
    "        for sub in range(group):\n",
    "            RSmax, RSmin = 0, 0\n",
    "            sub_group = np.array(logs[int(len(logs)/group)*sub : int(len(logs)/group*(sub+1))])\n",
    "            for in_sub in range(1, int(len(logs)/group)):\n",
    "                sub_RS[sub] += sub_group[in_sub]\n",
    "                RSmax = max(sub_RS[sub], RSmax)\n",
    "                RSmin = min(sub_RS[sub], RSmin)\n",
    "            sub_RS[sub] = RSmax - RSmin\n",
    "            stdev[sub] = std(sub_group)\n",
    "        a = sub_RS / stdev\n",
    "        RS[group-1] = a.mean()\n",
    "    poly = polyfit(log(line[1:]), log(RS[1:]), 1)\n",
    "    H = poly[0] \n",
    "    return H "
   ]
  },
  {
   "cell_type": "code",
   "execution_count": 3,
   "metadata": {},
   "outputs": [],
   "source": [
    "def getparams(ticker, strt, endt, intrvl):\n",
    "    format = '%Y-%m-%d'\n",
    "    dtstrt = datetime.datetime.strptime(strt, format)\n",
    "    dtendt = datetime.datetime.strptime(endt, format)\n",
    "    time_delta = dtendt-dtstrt\n",
    "    time_marshall_as_year = time_delta.total_seconds() / 365.25 / 86400\n",
    "    print(\"year frac = \", time_marshall_as_year)\n",
    "    data = yf.download(ticker, start=strt, end=endt, interval=intrvl)\n",
    "    tau = time_marshall_as_year / len(data['Adj Close'])\n",
    "    print(\"tau = \", tau)\n",
    "    ticks = np.arange(1,len(data['Adj Close'])+1)\n",
    "    print(len(ticks))\n",
    "    #plt.plot(ticks, data['Adj Close'])\n",
    "    #plt.show()\n",
    "    np_data = data['Adj Close']\n",
    "    log_data = np.zeros(len(np_data))\n",
    "    div = np_data[0]\n",
    "    log_data = np.log(np_data / div)\n",
    "    XT = log_data[len(log_data)-1]\n",
    "    mean = XT / len(log_data)\n",
    "    var = 0\n",
    "    for i in range(1, len(log_data)):\n",
    "        var += (log_data[i] - log_data[i-1]) * (log_data[i] - log_data[i-1])\n",
    "    var /= len(log_data) * tau\n",
    "    mu = XT/time_marshall_as_year\n",
    "    sigma = math.sqrt(var)\n",
    "    #hrst = hurst(data['Adj Close'])\n",
    "    #print(\"mu = \", mu)\n",
    "    #print(\"sigma = \", sigma)\n",
    "    return mu, sigma"
   ]
  },
  {
   "cell_type": "code",
   "execution_count": 5,
   "metadata": {
    "scrolled": false
   },
   "outputs": [
    {
     "name": "stdout",
     "output_type": "stream",
     "text": [
      "2020-12-31\n",
      "year frac =  0.0027378507871321013\n",
      "[*********************100%***********************]  1 of 1 completed\n",
      "tau =  0.0013689253935660506\n",
      "2\n"
     ]
    },
    {
     "ename": "ValueError",
     "evalue": "setting an array element with a sequence.",
     "output_type": "error",
     "traceback": [
      "\u001b[1;31m---------------------------------------------------------------------------\u001b[0m",
      "\u001b[1;31mTypeError\u001b[0m                                 Traceback (most recent call last)",
      "\u001b[1;31mTypeError\u001b[0m: float() argument must be a string or a number, not 'tuple'",
      "\nThe above exception was the direct cause of the following exception:\n",
      "\u001b[1;31mValueError\u001b[0m                                Traceback (most recent call last)",
      "\u001b[1;32m<ipython-input-5-33427188dc14>\u001b[0m in \u001b[0;36m<module>\u001b[1;34m\u001b[0m\n\u001b[0;32m     24\u001b[0m             \u001b[0mdts\u001b[0m \u001b[1;33m=\u001b[0m \u001b[0msy\u001b[0m \u001b[1;33m+\u001b[0m \u001b[0msm\u001b[0m \u001b[1;33m+\u001b[0m \u001b[1;34m\"31\"\u001b[0m\u001b[1;33m\u001b[0m\u001b[1;33m\u001b[0m\u001b[0m\n\u001b[0;32m     25\u001b[0m             \u001b[0mprint\u001b[0m \u001b[1;33m(\u001b[0m\u001b[0mdts\u001b[0m\u001b[1;33m)\u001b[0m\u001b[1;33m\u001b[0m\u001b[1;33m\u001b[0m\u001b[0m\n\u001b[1;32m---> 26\u001b[1;33m             \u001b[0mpara\u001b[0m\u001b[1;33m[\u001b[0m\u001b[0mi\u001b[0m\u001b[1;33m]\u001b[0m \u001b[1;33m=\u001b[0m \u001b[0mgetparams\u001b[0m\u001b[1;33m(\u001b[0m\u001b[0mtics\u001b[0m\u001b[1;33m,\u001b[0m \u001b[0mdts\u001b[0m\u001b[1;33m,\u001b[0m \u001b[0mendt\u001b[0m\u001b[1;33m,\u001b[0m \u001b[0mintrvl\u001b[0m\u001b[1;33m)\u001b[0m\u001b[1;33m\u001b[0m\u001b[1;33m\u001b[0m\u001b[0m\n\u001b[0m\u001b[0;32m     27\u001b[0m             \u001b[0mi\u001b[0m \u001b[1;33m+=\u001b[0m \u001b[1;36m1\u001b[0m\u001b[1;33m\u001b[0m\u001b[1;33m\u001b[0m\u001b[0m\n\u001b[0;32m     28\u001b[0m     \u001b[1;31m#print(para)\u001b[0m\u001b[1;33m\u001b[0m\u001b[1;33m\u001b[0m\u001b[1;33m\u001b[0m\u001b[0m\n",
      "\u001b[1;31mValueError\u001b[0m: setting an array element with a sequence."
     ]
    }
   ],
   "source": [
    "ticker = \"MSFT\"\n",
    "endt = \"2021-01-01\"\n",
    "intrvl = \"1d\"\n",
    "\n",
    "tickers = ['MSFT','BRK-A','TSM','UNH','DIS','BAC','HD','PG','VZ','XOM','KO',\n",
    "           'T', 'V', 'JPM','VTI','JNJ','WMT','SPY','MA','BML-PJ']\n",
    "#tickers = ['TATN.ME','SNGSP.ME','SIBN.ME','YNDX.ME','PLZL.ME','LKOH.ME','GMKN.ME','NVTK.ME','GAZP.ME','ROSN.ME',\n",
    "#         'NLMK.ME','MTSS.ME','CHMF.ME','ALRS.ME','VTBR.ME','FIVE.ME','IRAO.ME','MGNT.ME','POLY.ME','SBER.ME']\n",
    "#tickers = ['UNH', 'T']\n",
    "#st_y = ['2020-','2019-','2018-','2017-','2016-','2015-','2014-','2013-','2012-','2011-','2010-']\n",
    "#st_m = ['12-','11-','10-','09-','08-','07-','06-','05-','04-','03-','02-','01-']\n",
    "st_y = ['2020-']\n",
    "st_m = ['12-']\n",
    "para = np.zeros((len(st_y)*len(st_m),2), dtype=\"float32\")\n",
    "#getparams(ticker, strt, endt, intrvl)\n",
    "\n",
    "para = np.zeros(len(tickers)*2, dtype=\"float32\")\n",
    "for tics in tickers:\n",
    "    i = 0\n",
    "    #para = np.zeros((len(st_y)*len(st_m),2), dtype=\"float32\")\n",
    "\n",
    "    for sy in st_y:\n",
    "        for sm in st_m:\n",
    "            dts = sy + sm + \"31\"\n",
    "            print (dts)\n",
    "            #para[i] = getparams(tics, dts, endt, intrvl)\n",
    "            data = yf.download(tics, start=strt, end=endt, interval=intrvl)\n",
    "            para[i] = getparams(tics, dts, endt, intrvl)\n",
    "            i += 1   \n",
    "    #print(para)\n",
    "    #plt.plot(np.arange(i)+1, para[:,0])\n",
    "    #plt.show()\n",
    "    #plt.plot(np.arange(i)+1, para[:,1])\n",
    "    #plt.show()\n",
    "dt = pd.DataFrame(para)\n",
    "writer = pd.ExcelWriter('C:/Users/prof-/OneDrive/Рабочий стол/ПНИПУ/Ticker_params/S0.xlsx', engine='xlsxwriter')\n",
    "dt.to_excel(writer, 'Sheet1')\n",
    "writer.save()"
   ]
  },
  {
   "cell_type": "code",
   "execution_count": 106,
   "metadata": {},
   "outputs": [],
   "source": [
    "dt = pd.DataFrame(para)\n",
    "writer = pd.ExcelWriter('C:/Users/prof-/OneDrive/Рабочий стол/ПНИПУ/Ticker_params/Mu_sigma_'+ticker+'.xlsx', engine='xlsxwriter')\n",
    "dt.to_excel(writer, 'Sheet1')\n",
    "writer.save()"
   ]
  }
 ],
 "metadata": {
  "kernelspec": {
   "display_name": "Python 3",
   "language": "python",
   "name": "python3"
  },
  "language_info": {
   "codemirror_mode": {
    "name": "ipython",
    "version": 3
   },
   "file_extension": ".py",
   "mimetype": "text/x-python",
   "name": "python",
   "nbconvert_exporter": "python",
   "pygments_lexer": "ipython3",
   "version": "3.8.5"
  }
 },
 "nbformat": 4,
 "nbformat_minor": 4
}
